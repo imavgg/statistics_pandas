{
  "nbformat": 4,
  "nbformat_minor": 0,
  "metadata": {
    "kernelspec": {
      "display_name": "Python 3",
      "language": "python",
      "name": "python3"
    },
    "language_info": {
      "codemirror_mode": {
        "name": "ipython",
        "version": 3
      },
      "file_extension": ".py",
      "mimetype": "text/x-python",
      "name": "python",
      "nbconvert_exporter": "python",
      "pygments_lexer": "ipython3",
      "version": "3.7.9"
    },
    "colab": {
      "name": "Coding.ipynb",
      "private_outputs": true,
      "provenance": [],
      "collapsed_sections": [],
      "toc_visible": true
    },
    "accelerator": "GPU"
  },
  "cells": [
    {
      "cell_type": "markdown",
      "metadata": {
        "id": "aunaw7bqluVX"
      },
      "source": [
        "# **編碼**"
      ]
    },
    {
      "cell_type": "markdown",
      "metadata": {
        "id": "3t7rSb2d54zY"
      },
      "source": [
        "# **載入套件**"
      ]
    },
    {
      "cell_type": "code",
      "metadata": {
        "id": "PfQkDUrfl2Vh"
      },
      "source": [
        "import numpy as np\n",
        "import pandas as pd\n",
        "import requests\n",
        "import io"
      ],
      "execution_count": null,
      "outputs": []
    },
    {
      "cell_type": "markdown",
      "metadata": {
        "id": "qJW0HfpAld-r"
      },
      "source": [
        "# **資料輸入**"
      ]
    },
    {
      "cell_type": "code",
      "metadata": {
        "id": "iw6mV5hXlSyh"
      },
      "source": [
        "from google.colab import files\n",
        "uploaded=files.upload()"
      ],
      "execution_count": null,
      "outputs": []
    },
    {
      "cell_type": "markdown",
      "metadata": {
        "id": "0liN4ebeZHS9"
      },
      "source": [
        "# **觀察資料**"
      ]
    },
    {
      "cell_type": "code",
      "metadata": {
        "id": "O8nB0tC8lTCm"
      },
      "source": [
        "data=pd.read_csv('pima-indians-diabetes.csv',header=0)\n",
        "data.head()\n",
        "# Number_pregnant:懷孕次數 \n",
        "# Glucose_concentration：口服葡萄糖耐量試驗中血漿葡萄糖濃度2小時\n",
        "# Blood_pressure：舒張壓\n",
        "# Triceps：三頭肌皮膚折皺厚度\n",
        "# Insulin：2小時血清胰島素\n",
        "# BMI：\n",
        "# Pedigree：糖尿病家族史"
      ],
      "execution_count": null,
      "outputs": []
    },
    {
      "cell_type": "code",
      "metadata": {
        "id": "BmOeKPciZRy7"
      },
      "source": [
        "data.columns "
      ],
      "execution_count": null,
      "outputs": []
    },
    {
      "cell_type": "code",
      "metadata": {
        "id": "FZ2yXOnc5-m1"
      },
      "source": [
        "data.info()"
      ],
      "execution_count": null,
      "outputs": []
    },
    {
      "cell_type": "markdown",
      "metadata": {
        "id": "l4oEpzFX6Dwi"
      },
      "source": [
        "# **類別資料編碼**"
      ]
    },
    {
      "cell_type": "markdown",
      "metadata": {
        "id": "WAiXF6A9_6GV"
      },
      "source": [
        "## Label encoding : 把每個類別 mapping **到某個整數，不會增加新欄位**"
      ]
    },
    {
      "cell_type": "code",
      "metadata": {
        "id": "d8ncLlhU_7rP"
      },
      "source": [
        "from sklearn.preprocessing import LabelEncoder\n",
        "labelencoder = LabelEncoder()\n",
        "data_le=pd.DataFrame(data)\n",
        "data_le['Group_le'] = labelencoder.fit_transform(data_le['Group'])\n",
        "data_le"
      ],
      "execution_count": null,
      "outputs": []
    },
    {
      "cell_type": "markdown",
      "metadata": {
        "id": "qcPMxEnYBHur"
      },
      "source": [
        "## **One hot encoding**\n",
        "One hot encoding無法直接對字串進行編碼，必須先透過Label encoding將字串以數字取代後再進行One hot encoding處理。"
      ]
    },
    {
      "cell_type": "code",
      "metadata": {
        "id": "bKR7juTiEMw1"
      },
      "source": [
        "Group_ohe = data['Group_le']"
      ],
      "execution_count": null,
      "outputs": []
    },
    {
      "cell_type": "code",
      "metadata": {
        "id": "UpsY5iLGE3XB"
      },
      "source": [
        "Group_ohe = np.array(Group_ohe).reshape((len(Group_ohe), 1))\n",
        "from sklearn.preprocessing import OneHotEncoder\n",
        "onehotencoder = OneHotEncoder(categories='auto')\n",
        "data_str_ohe=onehotencoder.fit_transform(Group_ohe).toarray()\n",
        "data_str_ohe\n",
        "pd.DataFrame(data_str_ohe)"
      ],
      "execution_count": null,
      "outputs": []
    },
    {
      "cell_type": "code",
      "metadata": {
        "id": "9ftPLXS9pAE3"
      },
      "source": [
        "data_dum = pd.get_dummies(data)\n",
        "data=pd.DataFrame(data_dum)\n",
        "data"
      ],
      "execution_count": null,
      "outputs": []
    },
    {
      "cell_type": "markdown",
      "metadata": {
        "id": "9JafArM_kqSV"
      },
      "source": [
        "# **資料的正規化(Normalization)及標準化(Standardization)**"
      ]
    },
    {
      "cell_type": "markdown",
      "metadata": {
        "id": "gzP1zS4ekyLM"
      },
      "source": [
        "## **標準常態係數**"
      ]
    },
    {
      "cell_type": "code",
      "metadata": {
        "id": "fx8X-VCwkwvl"
      },
      "source": [
        "#標準常態係數\n",
        "from sklearn.preprocessing import StandardScaler\n",
        "scaler = StandardScaler()\n",
        "scaler.fit(data)\n",
        "data = pd.DataFrame(data=scaler.transform(data), columns=data.columns, index=data.index)"
      ],
      "execution_count": null,
      "outputs": []
    },
    {
      "cell_type": "code",
      "metadata": {
        "id": "VTjXgyH5k5Ud"
      },
      "source": [
        "data"
      ],
      "execution_count": null,
      "outputs": []
    },
    {
      "cell_type": "markdown",
      "metadata": {
        "id": "v6Lmh3Nyk6uW"
      },
      "source": [
        "## Max-Min標準化"
      ]
    },
    {
      "cell_type": "code",
      "metadata": {
        "id": "352c6YLck-2l"
      },
      "source": [
        "#建立MinMaxScaler物件\n",
        "from sklearn.preprocessing import MinMaxScaler\n",
        "minmax =MinMaxScaler()\n",
        "# 標準化處理\n",
        "minmax.fit(data)\n",
        "data = pd.DataFrame(data=minmax.transform(data), columns=data.columns, index=data.index)\n",
        "data"
      ],
      "execution_count": null,
      "outputs": []
    },
    {
      "cell_type": "code",
      "metadata": {
        "id": "aCkNzSUl7uVE"
      },
      "source": [
        ""
      ],
      "execution_count": null,
      "outputs": []
    },
    {
      "cell_type": "markdown",
      "metadata": {
        "id": "B8J21NYVkep_"
      },
      "source": [
        "## **區間係數**"
      ]
    },
    {
      "cell_type": "code",
      "metadata": {
        "id": "y2knb582YzwM"
      },
      "source": [
        "#區間係數 ['Number_pregnant', 'Glucose_concentration', 'Blood_pressure', 'Triceps','Insulin', 'BMI', 'Pedigree']\n",
        "cols_to_norm = ['Number_pregnant', 'Glucose_concentration', 'Blood_pressure', 'Triceps','Insulin', 'BMI', 'Pedigree']\n",
        "data[cols_to_norm] = data[cols_to_norm].apply(lambda x: (x - x.min()) / (x.max() - x.min())*0.6+0.2)"
      ],
      "execution_count": null,
      "outputs": []
    },
    {
      "cell_type": "code",
      "metadata": {
        "id": "_y0KB0QbkvSn"
      },
      "source": [
        "data"
      ],
      "execution_count": null,
      "outputs": []
    }
  ]
}